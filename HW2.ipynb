{
 "cells": [
  {
   "cell_type": "markdown",
   "metadata": {},
   "source": [
    "Last modified April 28, 2021 by Luis Valdivia"
   ]
  },
  {
   "cell_type": "code",
   "execution_count": 55,
   "metadata": {},
   "outputs": [],
   "source": [
    "import math\n",
    "import matplotlib.pyplot as plt \n",
    "from astropy.table import QTable, Table, Column\n",
    "from astropy import units as u\n",
    "import numpy as np"
   ]
  },
  {
   "cell_type": "markdown",
   "metadata": {},
   "source": [
    "# 1.\n",
    "# a.\n",
    "We rewrite the ODE as $u' -\\frac{u}{t} = 1$ and multiply by the integrating factor $e^{-\\int \\frac{1}{t}} = e^{-\\ln t} = -\\frac1t$ to get $\\frac{-u'}{t} + \\frac{u}{t^2} = -\\frac1t$. We integrate both sides with respect to $t$, noting that $\\frac{-u'}{t} + \\frac{u}{t^2} = \\frac{d}{dt}(\\frac{-u}{t})$, so we have\n",
    "\n",
    "$$\\int \\frac{-u'}{t} + \\frac{u}{t^2} dt = \\int -\\frac1t dt,$$\n",
    "$$\\int \\frac{d}{dt}\\bigg(\\frac{-u}{t}\\bigg) dt = \\int -\\frac1t dt,$$\n",
    "$$\\frac{-u}{t} = -\\ln t + C,$$\n",
    "$$u(t) = t\\ln t + Ct.$$\n",
    "\n",
    "Now we consider the initial condition, that $u(1)=2$. This means that $$2 = u(1) = \\ln 1 + C,$$ which implies $C=2$. Thus, the exact solution to the IVP is \n",
    "\n",
    "$$u(t) = t\\ln t + 2t.$$\n"
   ]
  },
  {
   "cell_type": "markdown",
   "metadata": {},
   "source": [
    "# b. \n",
    "\n",
    "We start by defining the function we will be working with in this problem. Recall that we have $u'(t) = 1 + \\frac{u}{t}$."
   ]
  },
  {
   "cell_type": "code",
   "execution_count": 56,
   "metadata": {},
   "outputs": [],
   "source": [
    "# INPUT: u and t\n",
    "# OUTPUT: u'(t)\n",
    "\n",
    "def f1(t,u):\n",
    "    return (1 + (u/t))"
   ]
  },
  {
   "cell_type": "markdown",
   "metadata": {},
   "source": [
    "Then we write code for the classical 4th order Runge Kutta method, note that we want to return an array including the intermediate values."
   ]
  },
  {
   "cell_type": "code",
   "execution_count": 57,
   "metadata": {},
   "outputs": [],
   "source": [
    "# INPUT: t_0 as a, t_N as b, interval length as h,\n",
    "#        y = u(t_0), and f as the relevant function \n",
    "# OUTPUT: array of equispaced approximates \n",
    "#        from u(a) to u(b)\n",
    "\n",
    "def rk(a, b, h, y, f):\n",
    "    yarr = []\n",
    "    yarr.append(y)\n",
    "    for i in range(int((b-a)/h)):\n",
    "        k1 = f(a, y)\n",
    "        k2 = f(a + h/2, y + (h*k1/2))\n",
    "        k3 = f(a + h/2, y + (h*k2/2))\n",
    "        k4 = f(a + h, y + (h*k3))\n",
    "        y += h*(k1 + 2*k2 + 2*k3 + k4)/6\n",
    "        yarr.append(y)\n",
    "        a += h\n",
    "    return yarr"
   ]
  },
  {
   "cell_type": "markdown",
   "metadata": {},
   "source": [
    "Now we compute the $e_k$ values and store them."
   ]
  },
  {
   "cell_type": "code",
   "execution_count": 58,
   "metadata": {},
   "outputs": [],
   "source": [
    "karr = [0.2, 0.1, 0.05, 0.025]\n",
    "ekarr = []\n",
    "for k in karr:\n",
    "    runge = rk(1,2,k,2,f1)\n",
    "    a = 1\n",
    "    max = 0\n",
    "    for j in range(int(1/k)+1):\n",
    "        curr = (abs(runge[j] - a*math.log(a) - 2 * a))\n",
    "        if curr > max:\n",
    "            max = curr\n",
    "        a += k\n",
    "    ekarr.append(max)"
   ]
  },
  {
   "cell_type": "markdown",
   "metadata": {},
   "source": [
    "Lastly we make a table to show the results."
   ]
  },
  {
   "cell_type": "code",
   "execution_count": 59,
   "metadata": {},
   "outputs": [
    {
     "data": {
      "text/html": [
       "<i>Table length=4</i>\n",
       "<table id=\"table140614691332160\" class=\"table-striped table-bordered table-condensed\">\n",
       "<thead><tr><th>k</th><th>e_k</th></tr></thead>\n",
       "<thead><tr><th>float64</th><th>float64</th></tr></thead>\n",
       "<tr><td>0.2</td><td>2.2025877904230384e-05</td></tr>\n",
       "<tr><td>0.1</td><td>1.4747674339510297e-06</td></tr>\n",
       "<tr><td>0.05</td><td>9.501746456308524e-08</td></tr>\n",
       "<tr><td>0.025</td><td>6.022803589189607e-09</td></tr>\n",
       "</table>"
      ],
      "text/plain": [
       "<Table length=4>\n",
       "   k             e_k          \n",
       "float64        float64        \n",
       "------- ----------------------\n",
       "    0.2 2.2025877904230384e-05\n",
       "    0.1 1.4747674339510297e-06\n",
       "   0.05  9.501746456308524e-08\n",
       "  0.025  6.022803589189607e-09"
      ]
     },
     "execution_count": 59,
     "metadata": {},
     "output_type": "execute_result"
    }
   ],
   "source": [
    "data = [karr, ekarr]\n",
    "Table(data, names = ('k', 'e_k'))"
   ]
  },
  {
   "cell_type": "markdown",
   "metadata": {},
   "source": [
    "# c. \n",
    "Now we do the same thing with the second-order Runge-Kutta method."
   ]
  },
  {
   "cell_type": "code",
   "execution_count": 60,
   "metadata": {},
   "outputs": [],
   "source": [
    "# INPUT: t_0 as a, t_N as b, interval length as h,\n",
    "#        y = u(t_0), and f as the relevant function \n",
    "# OUTPUT: array of equispaced approximates \n",
    "#        from u(a) to u(b)\n",
    "\n",
    "def rk2(a, b, h, y, f):\n",
    "    yarr = []\n",
    "    yarr.append(y)\n",
    "    for i in range(int((b-a)/h)):\n",
    "        k1 = f(a, y)\n",
    "        k2 = f(a + h, y + (h*k1))\n",
    "        y += h*(k1 + k2)/2\n",
    "        yarr.append(y)\n",
    "        a += h\n",
    "    return yarr"
   ]
  },
  {
   "cell_type": "markdown",
   "metadata": {},
   "source": [
    "Now we compute the $e_k$ values and store them."
   ]
  },
  {
   "cell_type": "code",
   "execution_count": 61,
   "metadata": {},
   "outputs": [],
   "source": [
    "karr2 = [0.2, 0.1, 0.05, 0.025]\n",
    "ekarr2 = []\n",
    "for k in karr2:\n",
    "    runge = rk2(1,2,k,2,f1)\n",
    "    a = 1\n",
    "    max = 0\n",
    "    for j in range(int(1/k)+1):\n",
    "        curr = (abs(runge[j] - a*math.log(a) - 2 * a))\n",
    "        if curr > max:\n",
    "            max = curr\n",
    "        a += k\n",
    "    ekarr2.append(max)"
   ]
  },
  {
   "cell_type": "markdown",
   "metadata": {},
   "source": [
    "Lastly we make a table to show the results."
   ]
  },
  {
   "cell_type": "code",
   "execution_count": 62,
   "metadata": {},
   "outputs": [
    {
     "data": {
      "text/html": [
       "<i>Table length=4</i>\n",
       "<table id=\"table140614691403040\" class=\"table-striped table-bordered table-condensed\">\n",
       "<thead><tr><th>k</th><th>e_k</th></tr></thead>\n",
       "<thead><tr><th>float64</th><th>float64</th></tr></thead>\n",
       "<tr><td>0.2</td><td>0.008867899794618328</td></tr>\n",
       "<tr><td>0.1</td><td>0.002356042022554572</td></tr>\n",
       "<tr><td>0.05</td><td>0.0006068784405939276</td></tr>\n",
       "<tr><td>0.025</td><td>0.0001539777709655965</td></tr>\n",
       "</table>"
      ],
      "text/plain": [
       "<Table length=4>\n",
       "   k             e_k         \n",
       "float64        float64       \n",
       "------- ---------------------\n",
       "    0.2  0.008867899794618328\n",
       "    0.1  0.002356042022554572\n",
       "   0.05 0.0006068784405939276\n",
       "  0.025 0.0001539777709655965"
      ]
     },
     "execution_count": 62,
     "metadata": {},
     "output_type": "execute_result"
    }
   ],
   "source": [
    "data2 = [karr2, ekarr2]\n",
    "Table(data2, names = ('k', 'e_k'))"
   ]
  },
  {
   "cell_type": "markdown",
   "metadata": {},
   "source": [
    "# 2."
   ]
  },
  {
   "cell_type": "markdown",
   "metadata": {},
   "source": [
    "We wrtie code for computing the array of the approximated values at each step."
   ]
  },
  {
   "cell_type": "code",
   "execution_count": 63,
   "metadata": {},
   "outputs": [],
   "source": [
    "# INPUT: t_0 as a, t_N as b, interval length as h,\n",
    "#        y = u(t_0)\n",
    "# OUTPUT: array of equispaced approximates \n",
    "#        from u(a) to u(b)\n",
    "\n",
    "def ivp(a, b, h, y):\n",
    "    yarr = []\n",
    "    yarr.append(y)\n",
    "    yarr.append(math.exp(h))\n",
    "    for i in range(2, int((b-a)/h)+1):\n",
    "        yarr.append(-yarr[i-2]/2 + 3*yarr[i-1]/2 + h*(5*yarr[i-1]/4 - 3*yarr[i-2]/4))\n",
    "    return yarr"
   ]
  },
  {
   "cell_type": "markdown",
   "metadata": {},
   "source": [
    "Then we store that array, along with another array for the $x$-values and graph it along with the exact solution."
   ]
  },
  {
   "cell_type": "code",
   "execution_count": 64,
   "metadata": {},
   "outputs": [
    {
     "data": {
      "text/plain": [
       "[<matplotlib.lines.Line2D at 0x7fe34a42da60>]"
      ]
     },
     "execution_count": 64,
     "metadata": {},
     "output_type": "execute_result"
    },
    {
     "data": {
      "image/png": "[encoded data removed]",
      "text/plain": [
       "<Figure size 432x288 with 1 Axes>"
      ]
     },
     "metadata": {
      "needs_background": "light"
     },
     "output_type": "display_data"
    }
   ],
   "source": [
    "y1 = ivp(0, 1, 0.01, 1)\n",
    "x = []\n",
    "exact = []\n",
    "for i in range(101):\n",
    "    x.append(0.01*i)\n",
    "    exact.append(math.exp(0.01*i))\n",
    "\n",
    "plt.plot(x, y1)\n",
    "plt.plot(x, exact)"
   ]
  },
  {
   "cell_type": "markdown",
   "metadata": {},
   "source": [
    "Note that the graphs are so close that they're visually hard to distinguish from each other.\n",
    "\n",
    "# b."
   ]
  },
  {
   "cell_type": "code",
   "execution_count": 65,
   "metadata": {},
   "outputs": [],
   "source": [
    "# INPUT: t_0 as a, t_N as b, interval length as h,\n",
    "#        y = u(t_0), and f as the relevant function \n",
    "# OUTPUT: array of equispaced approximates \n",
    "#        from u(a) to u(b)\n",
    "\n",
    "def ivp2(a, b, h, y):\n",
    "    yarr = []\n",
    "    yarr.append(y)\n",
    "    yarr.append(math.exp(h))\n",
    "    for i in range(2, int((b-a)/h)+1):\n",
    "        yarr.append(-2*yarr[i-2] + 3*yarr[i-1] + h*(yarr[i-1]/2 - 3*yarr[i-2]/2))\n",
    "    return yarr"
   ]
  },
  {
   "cell_type": "markdown",
   "metadata": {},
   "source": [
    "Then we store that array and graph it along with the exact solution."
   ]
  },
  {
   "cell_type": "code",
   "execution_count": 66,
   "metadata": {},
   "outputs": [
    {
     "data": {
      "text/plain": [
       "[<matplotlib.lines.Line2D at 0x7fe3382eb820>]"
      ]
     },
     "execution_count": 66,
     "metadata": {},
     "output_type": "execute_result"
    },
    {
     "data": {
      "image/png": "[encoded data removed]",
      "text/plain": [
       "<Figure size 432x288 with 1 Axes>"
      ]
     },
     "metadata": {
      "needs_background": "light"
     },
     "output_type": "display_data"
    }
   ],
   "source": [
    "y2 = ivp2(0, 1, 0.01, 1)\n",
    "\n",
    "plt.plot(x, y2)\n",
    "plt.plot(x, exact)"
   ]
  },
  {
   "cell_type": "markdown",
   "metadata": {},
   "source": [
    "# c. \n",
    "\n",
    "The graph in part a is very close to the exact solution, it converges, whereas that in part b diverges. We can explain this using zero-stability. They are clearly LMM. First, we show that each method is consistent. The corresponding characteristic polynomials for each(denoted by subscripts referring to their part) are $\\rho_a(z) = z^2 -\\frac32 z +\\frac12$, $ \\rho_b(z) = z^2 -3 z + 2$, $ \\sigma_a(z) = -\\frac34 z + \\frac54 z^2$, $ \\sigma_b(z) = -\\frac32 z + \\frac12 z^2$. We check that $\\rho_a(1) = 0$ and $\\rho_b(1) = 0$. We compute\n",
    "\n",
    "$$\\rho_a(1) = 1 -\\frac32  +\\frac12 = 0,$$\n",
    "$$\\rho_b(1) = 1 -3 + 2 = 0.$$\n",
    "\n",
    "Then we need to check that $\\rho'(1) = \\sigma(1)$. So we compute\n",
    "\n",
    "$$\\rho'_a(1) = 2\\cdot 1 -\\frac32  = \\frac12,$$\n",
    "$$\\sigma_a(1) = -\\frac34 + \\frac54 = \\frac12,$$\n",
    "$$\\rho'_b(1) = 2\\cdot 1 - 3 = -1,$$\n",
    "$$\\sigma_b(1) = -\\frac32 + \\frac12 = -1.$$\n",
    "\n",
    "Thus, both methods are consistent. Now we look at the roots of the $\\rho$ polynomials. The roots of $\\rho_a$ are $\\frac12$ and 1, meaning that this method is zero-stable. By the Dahlquist Theorem, a consistent LMM that is zero-stable is convergent, so that is why the method in part a converges.\n",
    "\n",
    "Meanwhile, the roots of $\\rho_b$ are 1 and 2. Notice that one of the roots is strictly greater than 1, meaning that this method is not zero-stable. By the contrapositive of the Dahlquist Theorem, a consistent LMM that is not zero-stable is not convergent, so that is why the method in part b diverges."
   ]
  }
 ],
 "metadata": {
  "kernelspec": {
   "display_name": "Python 3",
   "language": "python",
   "name": "python3"
  },
  "language_info": {
   "codemirror_mode": {
    "name": "ipython",
    "version": 3
   },
   "file_extension": ".py",
   "mimetype": "text/x-python",
   "name": "python",
   "nbconvert_exporter": "python",
   "pygments_lexer": "ipython3",
   "version": "3.8.5"
  }
 },
 "nbformat": 4,
 "nbformat_minor": 4
}
