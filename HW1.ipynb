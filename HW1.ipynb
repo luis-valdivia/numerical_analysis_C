{
 "cells": [
  {
   "cell_type": "markdown",
   "metadata": {},
   "source": [
    "Last modified April 15, 2021 by Luis Valdivia"
   ]
  },
  {
   "cell_type": "code",
   "execution_count": 1,
   "metadata": {},
   "outputs": [],
   "source": [
    "import math"
   ]
  },
  {
   "cell_type": "markdown",
   "metadata": {},
   "source": [
    "# 1.\n",
    "\n",
    "# a.\n",
    "\n",
    "We start by defining the function we will be working with in this problem. We can rewrite $u'(t) + 3tu+u^2 = 0$ as $u'(t) = -3tu - u^2$."
   ]
  },
  {
   "cell_type": "code",
   "execution_count": 2,
   "metadata": {},
   "outputs": [],
   "source": [
    "# INPUT: u and t\n",
    "# OUTPUT: u'(t)\n",
    "\n",
    "def f1(t,u):\n",
    "    return (-u**2 - 3*t*u)"
   ]
  },
  {
   "cell_type": "markdown",
   "metadata": {},
   "source": [
    "Then we define a function to compute the Forward Euler Method."
   ]
  },
  {
   "cell_type": "code",
   "execution_count": 3,
   "metadata": {},
   "outputs": [],
   "source": [
    "# INPUT: t_0 as a, t_N as b, interval length as h,\n",
    "#        y = u(t_0), and f as the relevant function \n",
    "# OUTPUT: u(b)\n",
    "\n",
    "def fem(a, b, h, y, f):\n",
    "    for i in range(int((b-a)/h)):\n",
    "        y += h * f(a,y)\n",
    "        a += h\n",
    "    return y"
   ]
  },
  {
   "cell_type": "markdown",
   "metadata": {},
   "source": [
    "Given that, we can compute $u(2)$ for $h = 0.1, 0.05$ and $0.025$, done below, and store those values. "
   ]
  },
  {
   "cell_type": "code",
   "execution_count": 4,
   "metadata": {},
   "outputs": [
    {
     "name": "stdout",
     "output_type": "stream",
     "text": [
      "0.0011949736823790194\n",
      "0.00278316214181391\n",
      "0.0037820745921232626\n"
     ]
    }
   ],
   "source": [
    "fem_u0 = fem(1,2,0.1,0.5,f1)\n",
    "fem_u1 = fem(1,2,0.05,0.5,f1)\n",
    "fem_u2 = fem(1,2,0.025,0.5,f1)\n",
    "print(fem_u0)\n",
    "print(fem_u1)\n",
    "print(fem_u2)"
   ]
  },
  {
   "cell_type": "markdown",
   "metadata": {},
   "source": [
    "We get that $u^{0.1}(2) = 0.0011949736823790194$, $u^{0.05}(2) = 0.00278316214181391$, and $u^{0.025}(2) = 0.0037820745921232626$. Then we can compute the ratio $r = \\frac{u^{0.1}(2) - u^{0.05}(2)}{u^{0.05}(2) - u^{0.025}(2)}$ below."
   ]
  },
  {
   "cell_type": "code",
   "execution_count": 5,
   "metadata": {},
   "outputs": [
    {
     "data": {
      "text/plain": [
       "1.5899175738004323"
      ]
     },
     "execution_count": 5,
     "metadata": {},
     "output_type": "execute_result"
    }
   ],
   "source": [
    "(fem_u0 - fem_u1)/(fem_u1 - fem_u2)"
   ]
  },
  {
   "cell_type": "markdown",
   "metadata": {},
   "source": [
    "Thus, in this case $r = 1.5899175738004323$."
   ]
  },
  {
   "cell_type": "markdown",
   "metadata": {},
   "source": [
    "# b.\n",
    "\n",
    "Now we define a function to compute the Backward Euler Method."
   ]
  },
  {
   "cell_type": "code",
   "execution_count": 6,
   "metadata": {},
   "outputs": [],
   "source": [
    "# INPUT: t_0 as a, t_N as b, interval length as h,\n",
    "#        y = u(t_0), and f as the relevant function \n",
    "# OUTPUT: u(b)\n",
    "\n",
    "def bem(a, b, h, y, f):\n",
    "    for i in range(int((b-a)/h)):\n",
    "        a += h\n",
    "        z = y\n",
    "        # newton method for finding zero\n",
    "        while(abs(y + h*f(a,z) - z) > 0.0000000001):\n",
    "            # rough approximation of derivative\n",
    "            fp = (f(a,z+0.00000000001)-f(a,z))/0.00000000001\n",
    "            z += -(y + h*f(a,z) - z)/(h*fp - 1)\n",
    "        y = z\n",
    "    return y"
   ]
  },
  {
   "cell_type": "markdown",
   "metadata": {},
   "source": [
    "Given that, we can compute $u(2)$ for $h = 0.1, 0.05$ and $0.025$, done below, and store those values. "
   ]
  },
  {
   "cell_type": "code",
   "execution_count": 7,
   "metadata": {},
   "outputs": [
    {
     "name": "stdout",
     "output_type": "stream",
     "text": [
      "0.010260252143696056\n",
      "0.007422732722068616\n",
      "0.006115369736642983\n"
     ]
    }
   ],
   "source": [
    "bem_u0 = bem(1,2,0.1,0.5,f1)\n",
    "bem_u1 = bem(1,2,0.05,0.5,f1)\n",
    "bem_u2 = bem(1,2,0.025,0.5,f1)\n",
    "print(bem_u0)\n",
    "print(bem_u1)\n",
    "print(bem_u2)"
   ]
  },
  {
   "cell_type": "markdown",
   "metadata": {},
   "source": [
    "We get that $u^{0.1}(2) = 0.010260252143696056$, $u^{0.05}(2) = 0.007422732722068616$, and $u^{0.025}(2) = 0.006115369736642983$. Then we can compute the ratio $r = \\frac{u^{0.1}(2) - u^{0.05}(2)}{u^{0.05}(2) - u^{0.025}(2)}$ below."
   ]
  },
  {
   "cell_type": "code",
   "execution_count": 8,
   "metadata": {},
   "outputs": [
    {
     "data": {
      "text/plain": [
       "2.1704143786078203"
      ]
     },
     "execution_count": 8,
     "metadata": {},
     "output_type": "execute_result"
    }
   ],
   "source": [
    "(bem_u0 - bem_u1)/(bem_u1 - bem_u2)"
   ]
  },
  {
   "cell_type": "markdown",
   "metadata": {},
   "source": [
    "Thus, in this case $r = 2.1704143786078203$."
   ]
  },
  {
   "cell_type": "markdown",
   "metadata": {},
   "source": [
    "# c.\n",
    "\n",
    "Now we define a function to compute the Trapzoidal Method."
   ]
  },
  {
   "cell_type": "code",
   "execution_count": 9,
   "metadata": {},
   "outputs": [],
   "source": [
    "# INPUT: t_0 as a, t_N as b, interval length as h,\n",
    "#        y = u(t_0), and f as the relevant function \n",
    "# OUTPUT: u(b)\n",
    "\n",
    "def tm(a, b, h, y, f):\n",
    "    for i in range(int((b-a)/h)):\n",
    "        a += h\n",
    "        z = y\n",
    "        # newton method for finding zero\n",
    "        while(abs(y + 0.5*h*(f(a,z)+f(a-h,y)) - z) > 0.0000000001):\n",
    "            # rough approximation of derivative\n",
    "            fp = (f(a,z+0.00000000001)-f(a,z))/0.00000000001\n",
    "            z += -(y + 0.5*h*(f(a,z)+f(a-h,y)) - z)/(0.5*h*(fp) - 1)\n",
    "        y = z\n",
    "    return y"
   ]
  },
  {
   "cell_type": "markdown",
   "metadata": {},
   "source": [
    "Given that, we can compute $u(2)$ for $h = 0.1, 0.05$ and $0.025$, done below, and store those values. "
   ]
  },
  {
   "cell_type": "code",
   "execution_count": 10,
   "metadata": {},
   "outputs": [
    {
     "name": "stdout",
     "output_type": "stream",
     "text": [
      "0.004605087844431315\n",
      "0.004824341360767579\n",
      "0.004879209473654786\n"
     ]
    }
   ],
   "source": [
    "tm_u0 = tm(1,2,0.1,0.5,f1)\n",
    "tm_u1 = tm(1,2,0.05,0.5,f1)\n",
    "tm_u2 = tm(1,2,0.025,0.5,f1)\n",
    "print(tm_u0)\n",
    "print(tm_u1)\n",
    "print(tm_u2)"
   ]
  },
  {
   "cell_type": "markdown",
   "metadata": {},
   "source": [
    "We get that $u^{0.1}(2) = 0.004605087844431315$, $u^{0.05}(2) = 0.004824341360767579$, and $u^{0.025}(2) = 0.004879209473654786$. Then we can compute the ratio $r = \\frac{u^{0.1}(2) - u^{0.05}(2)}{u^{0.05}(2) - u^{0.025}(2)}$ below."
   ]
  },
  {
   "cell_type": "code",
   "execution_count": 11,
   "metadata": {},
   "outputs": [
    {
     "data": {
      "text/plain": [
       "3.996009791460963"
      ]
     },
     "execution_count": 11,
     "metadata": {},
     "output_type": "execute_result"
    }
   ],
   "source": [
    "(tm_u0 - tm_u1)/(tm_u1 - tm_u2)"
   ]
  },
  {
   "cell_type": "markdown",
   "metadata": {},
   "source": [
    "Thus, in this case $r = 3.996009791460963$."
   ]
  },
  {
   "cell_type": "markdown",
   "metadata": {},
   "source": [
    "# d.\n",
    "\n",
    "Now we define a function to compute the Leapfrog Method, using Forward Euler Method to compute $U^1$."
   ]
  },
  {
   "cell_type": "code",
   "execution_count": 12,
   "metadata": {},
   "outputs": [],
   "source": [
    "# INPUT: t_0 as a, t_N as b, interval length as h,\n",
    "#        y = u(t_0), and f as the relevant function \n",
    "# OUTPUT: u(b)\n",
    "\n",
    "def lm(a, b, h, y, f):\n",
    "    yn = y + h * f(a,y)\n",
    "    for i in range(int((b-a)/h)):\n",
    "        a += h\n",
    "        t = yn\n",
    "        yn = y + 2*h*f(a,yn)\n",
    "        y = t \n",
    "    return y"
   ]
  },
  {
   "cell_type": "markdown",
   "metadata": {},
   "source": [
    "Given that, we can compute $u(2)$ for $h = 0.1, 0.05$ and $0.025$, done below, and store those values. "
   ]
  },
  {
   "cell_type": "code",
   "execution_count": 13,
   "metadata": {},
   "outputs": [
    {
     "name": "stdout",
     "output_type": "stream",
     "text": [
      "1.083054426084976\n",
      "0.36195906522713717\n",
      "0.10168653098915817\n"
     ]
    }
   ],
   "source": [
    "lm_u0 = lm(1,2,0.1,0.5,f1)\n",
    "lm_u1 = lm(1,2,0.05,0.5,f1)\n",
    "lm_u2 = lm(1,2,0.025,0.5,f1)\n",
    "print(lm_u0)\n",
    "print(lm_u1)\n",
    "print(lm_u2)"
   ]
  },
  {
   "cell_type": "markdown",
   "metadata": {},
   "source": [
    "We get that $u^{0.1}(2) = 1.083054426084976$, $u^{0.05}(2) = 0.36195906522713717$, and $u^{0.025}(2) = 0.10168653098915817$. Then we can compute the ratio $r = \\frac{u^{0.1}(2) - u^{0.05}(2)}{u^{0.05}(2) - u^{0.025}(2)}$ below."
   ]
  },
  {
   "cell_type": "code",
   "execution_count": 14,
   "metadata": {},
   "outputs": [
    {
     "data": {
      "text/plain": [
       "2.7705395921588423"
      ]
     },
     "execution_count": 14,
     "metadata": {},
     "output_type": "execute_result"
    }
   ],
   "source": [
    "(lm_u0 - lm_u1)/(lm_u1 - lm_u2)"
   ]
  },
  {
   "cell_type": "markdown",
   "metadata": {},
   "source": [
    "Thus, in this case $r= 2.7705395921588423$."
   ]
  },
  {
   "cell_type": "markdown",
   "metadata": {},
   "source": [
    "# 2.\n",
    "\n",
    "# a. \n",
    "\n",
    "We compute the exact solution. We can rewrite $u'=-e^{-t}u$ as $\\frac{1}{u} u' = -e^{-t}$, which we can then integrate with respect to $t$ to get $\\ln u = e^{-t} + C$. This is equivalent to $u(t) = e^{e^{-t} + C}$. Applying the initial condition we get $1 = e^{1 + C}$, which implies $C = -1$. \n",
    "\n",
    "Thus the exact solution is $u(t) = e^{e^{-t} - 1}$.\n",
    "\n",
    "# b.\n",
    "\n",
    "Now we define the new function we will be working with."
   ]
  },
  {
   "cell_type": "code",
   "execution_count": 15,
   "metadata": {},
   "outputs": [],
   "source": [
    "def f2(t,u):\n",
    "    return (-math.exp(-t)*u)"
   ]
  },
  {
   "cell_type": "markdown",
   "metadata": {},
   "source": [
    "We now use our function from part 1 to compute u(1) using the Forward Euler Method. "
   ]
  },
  {
   "cell_type": "code",
   "execution_count": 16,
   "metadata": {},
   "outputs": [
    {
     "name": "stdout",
     "output_type": "stream",
     "text": [
      "0.5018743391386775\n",
      "0.5170033210793948\n",
      "0.524313815571169\n"
     ]
    }
   ],
   "source": [
    "fem_u02 = fem(0,1,0.1,1,f2)\n",
    "fem_u12 = fem(0,1,0.05,1,f2)\n",
    "fem_u22 = fem(0,1,0.025,1,f2)\n",
    "print(fem_u02)\n",
    "print(fem_u12)\n",
    "print(fem_u22)"
   ]
  },
  {
   "cell_type": "markdown",
   "metadata": {},
   "source": [
    "We get that $u^{0.1}(1) = 0.5018743391386775$, $u^{0.05}(1) = 0.5170033210793948$, and $u^{0.025}(1) = 0.524313815571169$. Then we try using the Backward Euler Method."
   ]
  },
  {
   "cell_type": "code",
   "execution_count": 17,
   "metadata": {},
   "outputs": [
    {
     "name": "stdout",
     "output_type": "stream",
     "text": [
      "0.558571554486601\n",
      "0.5453048612837226\n",
      "0.5384587191047242\n"
     ]
    }
   ],
   "source": [
    "bem_u02 = bem(0,1,0.1,1,f2)\n",
    "bem_u12 = bem(0,1,0.05,1,f2)\n",
    "bem_u22 = bem(0,1,0.025,1,f2)\n",
    "print(bem_u02)\n",
    "print(bem_u12)\n",
    "print(bem_u22)"
   ]
  },
  {
   "cell_type": "markdown",
   "metadata": {},
   "source": [
    "We get that $u^{0.1}(1) = 0.558571554486601$, $u^{0.05}(1) = 0.5453048612837226$, and $u^{0.025}(1) = 0.5384587191047242$. Then we try using the Trapzoidal Method."
   ]
  },
  {
   "cell_type": "code",
   "execution_count": 18,
   "metadata": {},
   "outputs": [
    {
     "name": "stdout",
     "output_type": "stream",
     "text": [
      "0.5304679252830976\n",
      "0.5312148768848872\n",
      "0.5314014348251617\n"
     ]
    }
   ],
   "source": [
    "tm_u02 = tm(0,1,0.1,1,f2)\n",
    "tm_u12 = tm(0,1,0.05,1,f2)\n",
    "tm_u22 = tm(0,1,0.025,1,f2)\n",
    "print(tm_u02)\n",
    "print(tm_u12)\n",
    "print(tm_u22)"
   ]
  },
  {
   "cell_type": "markdown",
   "metadata": {},
   "source": [
    "We get that $u^{0.1}(1) = 0.5304679252830976$, $u^{0.05}(1) = 0.5312148768848872$, and $u^{0.025}(1) = 0.5314014348251617$. Then we try using the Leapfrog Method."
   ]
  },
  {
   "cell_type": "code",
   "execution_count": 19,
   "metadata": {},
   "outputs": [
    {
     "name": "stdout",
     "output_type": "stream",
     "text": [
      "0.5400710839050569\n",
      "0.5336401499626631\n",
      "0.5320093232968119\n"
     ]
    }
   ],
   "source": [
    "lm_u02 = lm(0,1,0.1,1,f2)\n",
    "lm_u12 = lm(0,1,0.05,1,f2)\n",
    "lm_u22 = lm(0,1,0.025,1,f2)\n",
    "print(lm_u02)\n",
    "print(lm_u12)\n",
    "print(lm_u22)"
   ]
  },
  {
   "cell_type": "markdown",
   "metadata": {},
   "source": [
    "We get that $u^{0.1}(1) = 0.5400710839050569$, $u^{0.05}(1) = 0.5336401499626631$, and $u^{0.025}(1) = 0.5320093232968119$. \n",
    "\n",
    "# c.\n",
    "\n",
    "Now we compute $r_1 = \\frac{u^{0.1}(1) - u(1)}{u^{0.05}(1) - u(1)}$ for the Forward Euler Method."
   ]
  },
  {
   "cell_type": "code",
   "execution_count": 20,
   "metadata": {},
   "outputs": [
    {
     "data": {
      "text/plain": [
       "2.046243740391924"
      ]
     },
     "execution_count": 20,
     "metadata": {},
     "output_type": "execute_result"
    }
   ],
   "source": [
    "(fem_u02 - math.exp(math.exp(-1)-1))/(fem_u12 - math.exp(math.exp(-1)-1))"
   ]
  },
  {
   "cell_type": "markdown",
   "metadata": {},
   "source": [
    "Now we compute $r_2 = \\frac{u^{0.05}(1) - u(1)}{u^{0.025}(1) - u(1)}$ for the Forward Euler Method."
   ]
  },
  {
   "cell_type": "code",
   "execution_count": 21,
   "metadata": {},
   "outputs": [
    {
     "data": {
      "text/plain": [
       "2.022476839246415"
      ]
     },
     "execution_count": 21,
     "metadata": {},
     "output_type": "execute_result"
    }
   ],
   "source": [
    "(fem_u12 - math.exp(math.exp(-1)-1))/(fem_u22 - math.exp(math.exp(-1)-1))"
   ]
  },
  {
   "cell_type": "markdown",
   "metadata": {},
   "source": [
    "Now we compute $r_1 = \\frac{u^{0.1}(1) - u(1)}{u^{0.05}(1) - u(1)}$ for the Backward Euler Method."
   ]
  },
  {
   "cell_type": "code",
   "execution_count": 22,
   "metadata": {},
   "outputs": [
    {
     "data": {
      "text/plain": [
       "1.9584891213268731"
      ]
     },
     "execution_count": 22,
     "metadata": {},
     "output_type": "execute_result"
    }
   ],
   "source": [
    "(bem_u02 - math.exp(math.exp(-1)-1))/(bem_u12 - math.exp(math.exp(-1)-1))"
   ]
  },
  {
   "cell_type": "markdown",
   "metadata": {},
   "source": [
    "Now we compute $r_2 = \\frac{u^{0.05}(1) - u(1)}{u^{0.025}(1) - u(1)}$ for the Backward Euler Method."
   ]
  },
  {
   "cell_type": "code",
   "execution_count": 23,
   "metadata": {},
   "outputs": [
    {
     "data": {
      "text/plain": [
       "1.9787034857311112"
      ]
     },
     "execution_count": 23,
     "metadata": {},
     "output_type": "execute_result"
    }
   ],
   "source": [
    "(bem_u12 - math.exp(math.exp(-1)-1))/(bem_u22 - math.exp(math.exp(-1)-1))"
   ]
  },
  {
   "cell_type": "markdown",
   "metadata": {},
   "source": [
    "Now we compute $r_1 = \\frac{u^{0.1}(1) - u(1)}{u^{0.05}(1) - u(1)}$ for the Trapezodial Method."
   ]
  },
  {
   "cell_type": "code",
   "execution_count": 24,
   "metadata": {},
   "outputs": [
    {
     "data": {
      "text/plain": [
       "4.003080051538336"
      ]
     },
     "execution_count": 24,
     "metadata": {},
     "output_type": "execute_result"
    }
   ],
   "source": [
    "(tm_u02 - math.exp(math.exp(-1)-1))/(tm_u12 - math.exp(math.exp(-1)-1))"
   ]
  },
  {
   "cell_type": "markdown",
   "metadata": {},
   "source": [
    "Now we compute $r_2 = \\frac{u^{0.05}(1) - u(1)}{u^{0.025}(1) - u(1)}$ for the Trapezodial Method."
   ]
  },
  {
   "cell_type": "code",
   "execution_count": 25,
   "metadata": {},
   "outputs": [
    {
     "data": {
      "text/plain": [
       "4.000744016323207"
      ]
     },
     "execution_count": 25,
     "metadata": {},
     "output_type": "execute_result"
    }
   ],
   "source": [
    "(tm_u12 - math.exp(math.exp(-1)-1))/(tm_u22 - math.exp(math.exp(-1)-1))"
   ]
  },
  {
   "cell_type": "markdown",
   "metadata": {},
   "source": [
    "Now we compute $r_1 = \\frac{u^{0.1}(1) - u(1)}{u^{0.05}(1) - u(1)}$ for the Leapfrog Method."
   ]
  },
  {
   "cell_type": "code",
   "execution_count": 26,
   "metadata": {},
   "outputs": [
    {
     "data": {
      "text/plain": [
       "3.954652991335588"
      ]
     },
     "execution_count": 26,
     "metadata": {},
     "output_type": "execute_result"
    }
   ],
   "source": [
    "(lm_u02 - math.exp(math.exp(-1)-1))/(lm_u12 - math.exp(math.exp(-1)-1))"
   ]
  },
  {
   "cell_type": "markdown",
   "metadata": {},
   "source": [
    "Now we compute $r_2 = \\frac{u^{0.05}(1) - u(1)}{u^{0.025}(1) - u(1)}$ for the Leapfrog Method."
   ]
  },
  {
   "cell_type": "code",
   "execution_count": 27,
   "metadata": {},
   "outputs": [
    {
     "data": {
      "text/plain": [
       "3.9884059793171844"
      ]
     },
     "execution_count": 27,
     "metadata": {},
     "output_type": "execute_result"
    }
   ],
   "source": [
    "(lm_u12 - math.exp(math.exp(-1)-1))/(lm_u22 - math.exp(math.exp(-1)-1))"
   ]
  },
  {
   "cell_type": "markdown",
   "metadata": {},
   "source": [
    "These ratios show how fast these methods converge towards the exact solution. Both Euler Methods are about 2 because their convergence is linear, whereas Trapezoidal and Leapfrog are close to 4 because they are quadratic. These are similar to the results we got in part 1, but they differ because those in part 1 were less accurate($r = 1.5899175738004323$ for the Forward Euler Method while $r_1$ and $r_2$ are significantly closer to 2). As we get closer to the solution, we converge towards either 2 or 4, depending on which method."
   ]
  },
  {
   "cell_type": "code",
   "execution_count": null,
   "metadata": {},
   "outputs": [],
   "source": []
  }
 ],
 "metadata": {
  "kernelspec": {
   "display_name": "Python 3",
   "language": "python",
   "name": "python3"
  },
  "language_info": {
   "codemirror_mode": {
    "name": "ipython",
    "version": 3
   },
   "file_extension": ".py",
   "mimetype": "text/x-python",
   "name": "python",
   "nbconvert_exporter": "python",
   "pygments_lexer": "ipython3",
   "version": "3.8.5"
  }
 },
 "nbformat": 4,
 "nbformat_minor": 4
}
